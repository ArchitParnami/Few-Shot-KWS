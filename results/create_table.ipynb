{
 "cells": [
  {
   "cell_type": "code",
   "execution_count": 1,
   "metadata": {},
   "outputs": [],
   "source": [
    "%matplotlib inline\n",
    "import matplotlib.pyplot as plt\n",
    "import pandas as pd\n",
    "import numpy as np"
   ]
  },
  {
   "cell_type": "code",
   "execution_count": 2,
   "metadata": {},
   "outputs": [],
   "source": [
    "files = ['cnn_trad_fpool3.csv', 'C64.csv','TCResNet8.csv', 'TCResNetDilated.csv']"
   ]
  },
  {
   "cell_type": "code",
   "execution_count": 3,
   "metadata": {},
   "outputs": [],
   "source": [
    "labels = [file[:-4] for file in files]\n",
    "results = [pd.read_csv(file) for file in files]"
   ]
  },
  {
   "cell_type": "code",
   "execution_count": 4,
   "metadata": {},
   "outputs": [],
   "source": [
    "def get_cases():\n",
    "    cases = []\n",
    "    for i in [0,1,3,7]:\n",
    "\n",
    "        include_background = False\n",
    "        include_silence = False\n",
    "        include_unknown = False\n",
    "        title = 'core'\n",
    "\n",
    "        if i == 1:\n",
    "            include_background = True\n",
    "            title = 'core + background'\n",
    "        elif i == 2:\n",
    "            include_silence = True\n",
    "            title = 'core + silence'\n",
    "        elif i == 3:\n",
    "            include_unknown = True\n",
    "            title = 'core + unknown'\n",
    "        elif i == 4:\n",
    "            include_background = True\n",
    "            include_silence = True\n",
    "            title = 'core + background + silence'\n",
    "        elif i == 5:\n",
    "            include_background = True\n",
    "            include_unknown = True\n",
    "            title = 'core + background + unknown'\n",
    "        elif i == 6:\n",
    "            include_unknown = True\n",
    "            include_silence = True\n",
    "            title = 'core + silence + unknown'\n",
    "        elif i == 7:\n",
    "            include_background = True\n",
    "            include_unknown = True\n",
    "            include_silence = True\n",
    "            title = 'core + background + silence + unknown'\n",
    "    \n",
    "        cases.append([title, (include_background, include_silence, include_unknown)])\n",
    "    return cases"
   ]
  },
  {
   "cell_type": "code",
   "execution_count": 5,
   "metadata": {},
   "outputs": [],
   "source": [
    "def get_way_shots():\n",
    "    ways = [2,4]\n",
    "    shots = [1,5]\n",
    "    cols = []\n",
    "    for way in ways:\n",
    "        for shot in shots:\n",
    "            cols.append((way, shot))\n",
    "    return cols"
   ]
  },
  {
   "cell_type": "code",
   "execution_count": 6,
   "metadata": {},
   "outputs": [],
   "source": [
    "rows = get_cases()"
   ]
  },
  {
   "cell_type": "code",
   "execution_count": 7,
   "metadata": {},
   "outputs": [],
   "source": [
    "cols = get_way_shots()"
   ]
  },
  {
   "cell_type": "code",
   "execution_count": 8,
   "metadata": {},
   "outputs": [],
   "source": [
    "table = []\n",
    "for case in rows:\n",
    "    name = case[0]\n",
    "    background, silence, unknown = case[1]\n",
    "    for model_name, df in zip(labels, results):\n",
    "        output = []\n",
    "        for way, shot in cols:\n",
    "            x = df[(df['test.way'] == way) &\n",
    "                     (df['test.shot'] == shot) &\n",
    "                     (df['background'] == background) & \n",
    "                     (df['silence'] == silence) & \n",
    "                     (df['unknown'] == unknown)][['test.acc.mean', 'test.acc.confidence']].values[0]\n",
    "            acc = round(x[0]*100,2)\n",
    "            cnf = round(x[1], 2)\n",
    "            out = '{} $\\pm$ {}'.format(acc, cnf)\n",
    "            output.append(out)\n",
    "        row = name + ',' + model_name + ',' + ','.join(output)\n",
    "        table.append(row)"
   ]
  },
  {
   "cell_type": "code",
   "execution_count": 9,
   "metadata": {},
   "outputs": [],
   "source": [
    "file = 'table.csv'\n",
    "with open(file, 'w') as wf:\n",
    "    for row in table:\n",
    "        wf.write(row)\n",
    "        wf.write('\\n')"
   ]
  },
  {
   "cell_type": "code",
   "execution_count": null,
   "metadata": {},
   "outputs": [],
   "source": []
  }
 ],
 "metadata": {
  "kernelspec": {
   "display_name": "Python 3",
   "language": "python",
   "name": "python3"
  },
  "language_info": {
   "codemirror_mode": {
    "name": "ipython",
    "version": 3
   },
   "file_extension": ".py",
   "mimetype": "text/x-python",
   "name": "python",
   "nbconvert_exporter": "python",
   "pygments_lexer": "ipython3",
   "version": "3.7.3"
  }
 },
 "nbformat": 4,
 "nbformat_minor": 2
}
